{
 "cells": [
  {
   "cell_type": "markdown",
   "metadata": {},
   "source": [
    "Derek Robinson"
   ]
  },
  {
   "cell_type": "code",
   "execution_count": 1,
   "metadata": {},
   "outputs": [],
   "source": [
    "import numpy as np\n",
    "import itertools as it\n",
    "import pandas as pd"
   ]
  },
  {
   "cell_type": "code",
   "execution_count": 2,
   "metadata": {},
   "outputs": [],
   "source": [
    "\"\"\"\n",
    "saves the sequence from the input file into a tuple\n",
    "\"\"\"\n",
    "with open(\"4.in\", 'r') as f:\n",
    "    lines = f.readlines()\n",
    "    sequence = lines[1]\n",
    "    sequence_tuple = tuple(lines[1])"
   ]
  },
  {
   "cell_type": "code",
   "execution_count": 3,
   "metadata": {},
   "outputs": [],
   "source": [
    "\"\"\"\n",
    "This cell contains the HMM provided in the Assignment 4 description PDF\n",
    "Adapted from: https://en.wikipedia.org/wiki/Viterbi_algorithm#Example\n",
    "\"\"\"\n",
    "obs = sequence_tuple\n",
    "states = (\"H\", \"L\")\n",
    "trans_p = {\n",
    "    \"S\": {\"H\": 0.5, \"L\": 0.5}, # probability of going from start state to the other statess\n",
    "    \"H\": {\"H\": 0.6, \"L\": 0.4},\n",
    "    \"L\": {\"H\": 0.5, \"L\": 0.5}\n",
    "}\n",
    "emit_p = {\n",
    "    \"H\": {\"A\": 0.2, \"C\": 0.3, \"G\": 0.3, \"T\": 0.2},\n",
    "    \"L\": {\"A\": 0.3, \"C\": 0.2, \"G\": 0.2, \"T\": 0.3},\n",
    "}"
   ]
  },
  {
   "cell_type": "code",
   "execution_count": 14,
   "metadata": {},
   "outputs": [],
   "source": [
    "def log_viterbi(obs, states, trans_p, emit_p):\n",
    "    \"\"\"\n",
    "    Returns the following:\n",
    "        * V - the log Viterbi DP matrix \n",
    "        * path - one optimal path\n",
    "        * mulitple_paths - if there are multiple paths or not (YES or NO)\n",
    "        * num_ties - the number of ties which occur in the DP matrix\n",
    "    Params\n",
    "        * obs - the observations that the HMM is able to produce\n",
    "        * states - the states of the HMM\n",
    "        * trans_p - the HMM state transtition probabilities\n",
    "        * emit_p - the HMM state emission probabilities\n",
    "    References:\n",
    "        * https://www.cis.upenn.edu/~cis262/notes/Example-Viterbi-DNA.pdf\n",
    "    \"\"\"\n",
    "    V = np.zeros((len(states) + 1, len(obs) + 1), dtype=float)\n",
    "    path = \"\"\n",
    "    multiple_paths = \"NO\"\n",
    "    num_ties = 0\n",
    "\n",
    "    for col in range(0, len(obs) + 1):\n",
    "        if(col == 0):\n",
    "            V[1][col] = V[2][col] = np.NINF\n",
    "        else:\n",
    "            V[0][col] = np.NINF\n",
    "\n",
    "    for row in range(1, len(states) + 1):\n",
    "        if(row == 1):\n",
    "            state = \"S\"\n",
    "            other_state = \"H\"\n",
    "            base = obs[0]\n",
    "            V[row][1] = np.log2(trans_p[state][other_state]) + np.log2(emit_p[other_state][base])\n",
    "        else:\n",
    "            state = \"S\"\n",
    "            other_state = \"L\"\n",
    "            base = obs[0]\n",
    "            V[row][1] = np.log2(trans_p[state][other_state]) + np.log2(emit_p[other_state][base])\n",
    "        V[row] = np.round(V[row], 3)\n",
    "\n",
    "    for col in range(2, len(obs) + 1):\n",
    "        for row in range(1, len(states) + 1):\n",
    "            if(row == 1):\n",
    "                state = \"H\"\n",
    "                other_state = \"L\"\n",
    "                base = obs[col - 1]\n",
    "                max_prob = max((V[row][col - 1]+np.log2(trans_p[state][state])),(V[row + 1][col - 1]+np.log2(trans_p[other_state][state])))\n",
    "                V[row][col] = np.log2(emit_p[state][base]) + max_prob\n",
    "            else:\n",
    "                state = \"L\"\n",
    "                other_state = \"H\"\n",
    "                base = obs[col - 1]\n",
    "                max_prob = max((V[row][col - 1]+np.log2(trans_p[state][state])),(V[row - 1][col - 1]+np.log2(trans_p[other_state][state])))\n",
    "                V[row][col] = np.log2(emit_p[state][base]) + max_prob\n",
    "    \n",
    "    V[1] = np.round(V[1], 3)\n",
    "    V[2] = np.round(V[2], 3)\n",
    "\n",
    "    for col in range(1, len(obs) + 1):\n",
    "        best_state_index = argmax(V[1][col], V[2][col])\n",
    "        if(best_state_index == 0 or best_state_index == 1):\n",
    "            path += states[best_state_index]\n",
    "        else: #best_state_index == -1\n",
    "            path += states[0]\n",
    "            multiple_paths = \"YES\"\n",
    "            num_ties += 1\n",
    "\n",
    "    return V, path, multiple_paths, num_ties\n",
    "\n",
    "def print_viterbi_table(V, obs, states):\n",
    "    \"\"\"\n",
    "    A helper function to print the Viterbi DP matrix as specified in the assignment pdf\n",
    "    \"\"\"\n",
    "    # part b\n",
    "    print(\"- 0\", end=\" \")\n",
    "    for o in obs:\n",
    "        print(o, end=\" \")\n",
    "    print(\"\\n\", end=\"\")\n",
    "\n",
    "    for row in range(0, len(states) + 1):\n",
    "        print(0, end = \" \") if row == 0 else print(states[row - 1], end = \" \")\n",
    "        for col in range(0, len(obs) + 1):\n",
    "            print(V[row][col], end = \" \")\n",
    "        print(\"\\n\", end=\"\")\n",
    "\n",
    "def probability_of_most_probable_path(V, obs, states):\n",
    "    \"\"\"\n",
    "    Returns the probability of the most likely path through the HMM\n",
    "    Params:\n",
    "        * V - the log viterbi DP matrix\n",
    "        * obs - the observations that the HMM is able to produce\n",
    "        * states - the states of the HMM\n",
    "    \"\"\"\n",
    "    arr = []\n",
    "    for i in range(1,len(states) + 1):\n",
    "        arr.append(V[i][len(obs)])\n",
    "    max_prob = np.max(arr)\n",
    "    # return the probability in non log base 2 format\n",
    "    return float('{:.3g}'.format(np.power(2, max_prob)))\n",
    "\n",
    "def argmax(a, b):\n",
    "    \"\"\"\n",
    "    A helper function that is similar to np.argmax()\n",
    "    \"\"\"\n",
    "    if(a > b):\n",
    "        return 0\n",
    "    elif(b > a):\n",
    "        return 1\n",
    "    else: # a==b\n",
    "        return -1\n",
    "\n",
    "def all_optimal_paths(V, num_ties):\n",
    "    \"\"\"\n",
    "    Prints all optimal paths through the specified HMM\n",
    "    THIS IS NOT A GENERAL SOLUTION AND WILL ONLY WORK FOR THE CASE SPECIFIED IN THE ASSIGNMENT PDF\n",
    "    Params:\n",
    "        * V - the viterbi DP matrix\n",
    "        * num_ties - the number of ties in V\n",
    "    References:\n",
    "        * https://stackoverflow.com/questions/27974126/how-to-get-all-combinations-of-length-n-in-python\n",
    "        * a bunch of trial and error on paper :P\n",
    "    \"\"\"\n",
    "    # the number of optimal paths is 2n + 2\n",
    "    # where n is the number of ties in V\n",
    "    num_paths = 2 * num_ties + 2\n",
    "    print(str(num_paths) + \"\\n\")\n",
    "    best_states = []\n",
    "    for col in range(1, len(obs) + 1):\n",
    "        best_state_index = argmax(V[1][col], V[2][col])\n",
    "        if(best_state_index == 0 or best_state_index == 1):\n",
    "            best_states.append(states[best_state_index])\n",
    "        else:\n",
    "            best_states.append((states[0], states[1]))\n",
    "    all_paths = []\n",
    "    format_path = \"\"\n",
    "    for state in best_states:\n",
    "        if(type(state) == str):\n",
    "            format_path += state\n",
    "        else:\n",
    "            format_path += \"{}\"\n",
    "    res = list(it.combinations([0,1,0,1,0,1], 3))\n",
    "    s = pd.Series(res).drop_duplicates().to_list()\n",
    "    for i in range(0, len(s)):\n",
    "        all_paths.append(format_path.format(str(states[s[i][0]]), str(states[s[i][1]]), str(states[s[i][2]])))\n",
    "    for p in all_paths:\n",
    "        print(p + \"\\n\")\n",
    "\n",
    "def forward(states, obs, trans_p, emit_p):\n",
    "    \"\"\"\n",
    "    Returns:\n",
    "        * F - the forward algorithm DP matrix\n",
    "    Params:\n",
    "        * states - the states of the HMM\n",
    "        * obs - the observations that the HMM is able to produce\n",
    "        * trans_p - the HMM state transtition probabilities\n",
    "        * emit_p - the HMM state emission probabilities\n",
    "    References:\n",
    "        * https://www.cis.upenn.edu/~cis262/notes/Example-Viterbi-DNA.pdf\n",
    "        * https://stackoverflow.com/questions/51933830/using-multiple-variables-in-a-for-loop-in-python\n",
    "    \"\"\"\n",
    "    F = np.zeros((len(states) + 1, len(obs) + 1), dtype=float)\n",
    "    F[0][0] = 1\n",
    "    \n",
    "    for row, state in enumerate(states, start = 1):\n",
    "        F[row][1] = emit_p[state][obs[0]] * trans_p[\"S\"][state]\n",
    "\n",
    "    for col in range(2, len(obs) + 1):\n",
    "        for row in range(1, len(states) + 1):\n",
    "                if(row == 1):\n",
    "                    state = \"H\"\n",
    "                    other_state = \"L\"\n",
    "                    base = obs[col - 1]\n",
    "                    F[row][col] = emit_p[state][base] * (F[row][col - 1] * trans_p[state][state] + F[row + 1][col - 1] * trans_p[other_state][state])\n",
    "                else:\n",
    "                    state = \"L\"\n",
    "                    other_state = \"H\"\n",
    "                    base = obs[col - 1]\n",
    "                    F[row][col] = emit_p[state][base] * (F[row][col - 1] * trans_p[state][state] + F[row - 1][col - 1] * trans_p[other_state][state])\n",
    "    return F\n",
    "\n",
    "def backward(states, obs, trans_p, emit_p):\n",
    "    \"\"\"\n",
    "    Returns:\n",
    "        * F - the forward algorithm DP matrix\n",
    "    Params:\n",
    "        * states - the states of the HMM\n",
    "        * obs - the observations that the HMM is able to produce\n",
    "        * trans_p - the HMM state transtition probabilities\n",
    "        * emit_p - the HMM state emission probabilities\n",
    "    \"\"\"\n",
    "    B = np.zeros((len(states), len(obs)), dtype=float)\n",
    "\n",
    "    for col in range(len(obs)-1, -1, -1):\n",
    "        if(col == len(obs) - 1):\n",
    "            B[0][-1] = 1\n",
    "            B[1][-1] = 1\n",
    "            continue\n",
    "        for row in range(0, len(states)):\n",
    "            if(row == 0):\n",
    "                state = \"H\"\n",
    "                other_state = \"L\"\n",
    "                base = obs[col + 1]\n",
    "                B[row][col] = (B[row][col + 1] * trans_p[state][state] * emit_p[state][base]) + (B[row + 1][col + 1] * trans_p[state][other_state] * emit_p[other_state][base])\n",
    "            else:\n",
    "                state = \"L\"\n",
    "                other_state = \"H\"\n",
    "                base = obs[col + 1]\n",
    "                B[row][col] = (B[row][col + 1] * trans_p[state][state] * emit_p[state][base]) + (B[row - 1][col + 1] * trans_p[state][other_state] * emit_p[other_state][base])  \n",
    "    return B\n",
    "\n",
    "def posterior_prob(obs, states, pos, trans_p, emit_p):\n",
    "    \"\"\"\n",
    "    Returns:\n",
    "        * post_prob - the posterior probability of observing obs[pos] for the given HMM\n",
    "    Params:\n",
    "        * obs - the observations that the HMM is able to produce\n",
    "        * states - the states of the HMM\n",
    "        * pos - the position we want the posterior probability for\n",
    "        * trans_p - the HMM state transtition probabilities\n",
    "        * emit_p - the HMM state emission probabilities\n",
    "    \"\"\"\n",
    "    post_probs = []\n",
    "    for i in range(1, len(states) + 1):\n",
    "        fki = forward(states, obs, trans_p, emit_p)[i][pos]\n",
    "        bki = backward(states, obs, trans_p, emit_p)[i - 1][pos - 1]\n",
    "        p_x = forward(states, obs, trans_p, emit_p).sum(axis = 0)[len(obs)]\n",
    "        result = (fki*bki)/p_x\n",
    "        post_probs.append(np.round(result, 3))\n",
    "    return post_probs\n"
   ]
  },
  {
   "cell_type": "markdown",
   "metadata": {},
   "source": [
    "## a)"
   ]
  },
  {
   "cell_type": "code",
   "execution_count": 15,
   "metadata": {},
   "outputs": [
    {
     "data": {
      "text/plain": [
       "3.77e-06"
      ]
     },
     "execution_count": 15,
     "metadata": {},
     "output_type": "execute_result"
    }
   ],
   "source": [
    "F = forward(states, obs, trans_p, emit_p)\n",
    "np.round(F.sum(axis = 0)[len(obs)], 8)"
   ]
  },
  {
   "cell_type": "markdown",
   "metadata": {},
   "source": [
    "The following code cell creates a tuple containing all return values from the `log_viterbi()` function.  \n",
    "These values will be used to answer parts **b**, **c**, **d**, **e**, and **g**"
   ]
  },
  {
   "cell_type": "code",
   "execution_count": 6,
   "metadata": {},
   "outputs": [],
   "source": [
    "viterbi_tuple = log_viterbi(obs, states, trans_p, emit_p)"
   ]
  },
  {
   "cell_type": "markdown",
   "metadata": {},
   "source": [
    "## b)"
   ]
  },
  {
   "cell_type": "code",
   "execution_count": 7,
   "metadata": {},
   "outputs": [
    {
     "name": "stdout",
     "output_type": "stream",
     "text": [
      "- 0 G G C A C T G A A \n",
      "0 0.0 -inf -inf -inf -inf -inf -inf -inf -inf -inf \n",
      "H -inf -2.737 -5.211 -7.685 -10.744 -13.218 -16.277 -18.751 -21.809 -24.868 \n",
      "L -inf -3.322 -6.381 -8.855 -10.744 -14.066 -16.277 -19.599 -21.809 -24.546 \n"
     ]
    }
   ],
   "source": [
    "# The viterbi tabe is in log format\n",
    "print_viterbi_table(viterbi_tuple[0], obs, states)"
   ]
  },
  {
   "cell_type": "markdown",
   "metadata": {},
   "source": [
    "## c)"
   ]
  },
  {
   "cell_type": "code",
   "execution_count": 13,
   "metadata": {},
   "outputs": [
    {
     "name": "stdout",
     "output_type": "stream",
     "text": [
      "HHHHHHHHL\n"
     ]
    }
   ],
   "source": [
    "# As there are multiple optimal paths through the viterbi table this answer is not exactly what the assignment pdf specifies.\n",
    "# However, you can see in part g that we do indeed have the optimal path HHHHHHHLL\n",
    "print(viterbi_tuple[1])"
   ]
  },
  {
   "cell_type": "markdown",
   "metadata": {},
   "source": [
    "## d)"
   ]
  },
  {
   "cell_type": "code",
   "execution_count": 9,
   "metadata": {},
   "outputs": [
    {
     "data": {
      "text/plain": [
       "4.08e-08"
      ]
     },
     "execution_count": 9,
     "metadata": {},
     "output_type": "execute_result"
    }
   ],
   "source": [
    "probability_of_most_probable_path(viterbi_tuple[0], obs, states)"
   ]
  },
  {
   "cell_type": "markdown",
   "metadata": {},
   "source": [
    "## e)"
   ]
  },
  {
   "cell_type": "code",
   "execution_count": 10,
   "metadata": {},
   "outputs": [
    {
     "name": "stdout",
     "output_type": "stream",
     "text": [
      "YES\n"
     ]
    }
   ],
   "source": [
    "print(viterbi_tuple[2])"
   ]
  },
  {
   "cell_type": "markdown",
   "metadata": {},
   "source": [
    "## f)"
   ]
  },
  {
   "cell_type": "code",
   "execution_count": 11,
   "metadata": {},
   "outputs": [
    {
     "name": "stdout",
     "output_type": "stream",
     "text": [
      "4.74e-01\n",
      "5.26e-01\n"
     ]
    }
   ],
   "source": [
    "part_f = posterior_prob(obs, states, 4, trans_p, emit_p)\n",
    "print(np.format_float_scientific(part_f[0]))\n",
    "print(np.format_float_scientific(part_f[1]))"
   ]
  },
  {
   "cell_type": "markdown",
   "metadata": {},
   "source": [
    "# g)"
   ]
  },
  {
   "cell_type": "code",
   "execution_count": 12,
   "metadata": {},
   "outputs": [
    {
     "name": "stdout",
     "output_type": "stream",
     "text": [
      "8\n",
      "\n",
      "HHHHHLHHL\n",
      "\n",
      "HHHHHLHLL\n",
      "\n",
      "HHHHHHHLL\n",
      "\n",
      "HHHHHHHHL\n",
      "\n",
      "HHHLHHHLL\n",
      "\n",
      "HHHLHHHHL\n",
      "\n",
      "HHHLHLHHL\n",
      "\n",
      "HHHLHLHLL\n",
      "\n"
     ]
    }
   ],
   "source": [
    "all_optimal_paths(viterbi_tuple[0], viterbi_tuple[3])"
   ]
  },
  {
   "cell_type": "markdown",
   "metadata": {},
   "source": [
    "note: part g) is not a general solution and will only work for the HMM and sequence specified in the assignment pdf"
   ]
  },
  {
   "cell_type": "markdown",
   "metadata": {},
   "source": []
  }
 ],
 "metadata": {
  "interpreter": {
   "hash": "e36037f63a187e1cbdbbdbba65cb8e02f1206170ccfbe96ceb37b0f563e0b6ff"
  },
  "kernelspec": {
   "display_name": "Python 3.7.10 64-bit ('base': conda)",
   "name": "python3"
  },
  "language_info": {
   "codemirror_mode": {
    "name": "ipython",
    "version": 3
   },
   "file_extension": ".py",
   "mimetype": "text/x-python",
   "name": "python",
   "nbconvert_exporter": "python",
   "pygments_lexer": "ipython3",
   "version": "3.7.10"
  },
  "orig_nbformat": 4
 },
 "nbformat": 4,
 "nbformat_minor": 2
}
