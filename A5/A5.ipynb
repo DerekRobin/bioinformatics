{
 "cells": [
  {
   "cell_type": "markdown",
   "metadata": {},
   "source": [
    "## Programming: RNA Structure Prediction"
   ]
  },
  {
   "cell_type": "code",
   "execution_count": 8,
   "metadata": {
    "collapsed": true
   },
   "outputs": [],
   "source": [
    "import numpy as np\n",
    "import re"
   ]
  },
  {
   "cell_type": "code",
   "execution_count": 9,
   "metadata": {},
   "outputs": [],
   "source": [
    "def nussinov_fill(rna):\n",
    "    \"\"\"\n",
    "    :param rna: the rna to build nussinovs matrix for\n",
    "    :return: nm - nussinov's DP matrix\n",
    "    Reference: https://www.cambridge.org/core/books/problems-and-solutions-in-biological-sequence-analysis/38C7399A53970CF4B4499EA036074F35 page 297\n",
    "    \"\"\"\n",
    "    #dynamic programming matrix\n",
    "    nm = np.empty([len(rna), len(rna)])\n",
    "    nm[:] = np.NAN\n",
    "\n",
    "    tie = False\n",
    "\n",
    "    minimal_loop_length = 3\n",
    "\n",
    "    # initialize diagonals of matrix\n",
    "    for i in range(1, len(rna)):\n",
    "        nm[i][i - 1] = 0\n",
    "    for k in range(0, minimal_loop_length + 1):\n",
    "        for i in range(0, len(rna) - k):\n",
    "            nm[i][i + k] = 0\n",
    "\n",
    "    #fill the matrix\n",
    "    for offset in range(minimal_loop_length + 1, len(rna)):\n",
    "        for col in range(len(rna) - 1, minimal_loop_length, -1):\n",
    "            if col >= offset:\n",
    "                row = col - offset\n",
    "                down = nm[row + 1][col] #residue at rna[row] is hanging off by itself\n",
    "                left = nm[row][col - 1] #residue at rna[col] is hanging off by itself\n",
    "                diag = nm[row + 1][col - 1] + score((rna[row], rna[col])) #residue at rna[row] and rna[col] are paired if they are complementary\n",
    "                rc = min([nm[row][k] + nm[k + 1][col] for k in range(row , col)])\n",
    "                nm[row][col] = min([down, left, diag, rc])\n",
    "                tie = min_tie([down, left, diag, rc])\n",
    "    nm = np.around(nm, 1)\n",
    "    return nm, tie\n",
    "\n",
    "def min_tie(arr):\n",
    "    current_min = np.Inf\n",
    "    more_than_one_min = \"NO\"\n",
    "    for elem in arr:\n",
    "        if elem < current_min:\n",
    "            current_min = elem\n",
    "        elif elem == current_min:\n",
    "            more_than_one_min = \"YES\"\n",
    "        else:\n",
    "            continue\n",
    "    return more_than_one_min\n",
    "\n",
    "def score(pair):\n",
    "    scores = {('A','U'): -2,\n",
    "              ('U','A'): -2,\n",
    "              ('G','U'): -2,\n",
    "              ('U','G'): -2,\n",
    "              ('G','C'): -3,\n",
    "              ('C','G'): -3}\n",
    "    if pair in scores:\n",
    "        return scores[pair]\n",
    "    else:\n",
    "        return 0"
   ]
  },
  {
   "cell_type": "code",
   "execution_count": 10,
   "metadata": {
    "collapsed": false,
    "pycharm": {
     "name": "#%%\n"
    }
   },
   "outputs": [],
   "source": [
    "def nussinov_traceback(rna, nm):\n",
    "    \"\"\"\n",
    "    :param rna: the rna sequence\n",
    "    :param nm: the corresponding nussinov DP matrix for :param rna\n",
    "    :return: the path through :param nm\n",
    "    Reference: https://www.cambridge.org/core/books/problems-and-solutions-in-biological-sequence-analysis/38C7399A53970CF4B4499EA036074F35 page 296\n",
    "    \"\"\"\n",
    "    i = 0\n",
    "    j = len(rna) - 1\n",
    "    stack = []\n",
    "    stack.append((i , j))\n",
    "    pair = []\n",
    "    \n",
    "    while stack: # is not empty\n",
    "        tup_of_indices = stack.pop()\n",
    "        i,j = tup_of_indices[0], tup_of_indices[1]\n",
    "        if i >= j:\n",
    "            continue\n",
    "        elif nm[i][j - 1] == nm[i][j]:\n",
    "            stack.append((i , j - 1))\n",
    "        elif nm[i + 1][j] == nm[i][j]:\n",
    "            stack.append((i + 1 , j))\n",
    "        elif nm[i + 1][j - 1] + score((rna[i], rna[j])) == nm[i][j]:\n",
    "            pair.append((i,j))\n",
    "            stack.append((i + 1 , j - 1))\n",
    "        else:\n",
    "            for k in range(i + 1, j):\n",
    "                if nm[i][k] + nm[k + 1][j] == nm[i][j]:\n",
    "                    stack.append((k + 1, j))\n",
    "                    stack.append((i, k))\n",
    "                    break\n",
    "    return pair\n",
    "\n",
    "def nussinov_traceback_alt(rna, nm):\n",
    "    \"\"\"\n",
    "    An alternate version of nussinov_traceback that has a different control flow through the while loop, this results in finding a different path through the matrix\n",
    "    :param rna: the rna sequence\n",
    "    :param nm: the corresponding nussinov DP matrix for :param rna\n",
    "    :return: the path through :param nm\n",
    "    Reference: https://www.cambridge.org/core/books/problems-and-solutions-in-biological-sequence-analysis/38C7399A53970CF4B4499EA036074F35 page 296\n",
    "    \"\"\"\n",
    "    i = 0\n",
    "    j = len(rna) - 1\n",
    "    stack = []\n",
    "    stack.append((i , j))\n",
    "    pair = []\n",
    "    \n",
    "    while stack: # is not empty\n",
    "        tup_of_indices = stack.pop()\n",
    "        i,j = tup_of_indices[0], tup_of_indices[1]\n",
    "        if i >= j:\n",
    "            continue\n",
    "        elif nm[i + 1][j] == nm[i][j]:\n",
    "            stack.append((i + 1 , j))   \n",
    "        elif nm[i][j - 1] == nm[i][j]:\n",
    "            stack.append((i , j - 1))\n",
    "        elif nm[i + 1][j - 1] + score((rna[i], rna[j])) == nm[i][j]:\n",
    "            pair.append((i,j))\n",
    "            stack.append((i + 1 , j - 1))\n",
    "        else:\n",
    "            for k in range(i + 1, j):\n",
    "                if nm[i][k] + nm[k + 1][j] == nm[i][j]:\n",
    "                    stack.append((k + 1, j))\n",
    "                    stack.append((i, k))\n",
    "                    break\n",
    "    return pair\n",
    "\n",
    "def traceback_all(rna, nm):\n",
    "    list_of_pairs = []\n",
    "    list_of_pairs.append(nussinov_traceback(rna, nm))\n",
    "    list_of_pairs.append(nussinov_traceback_alt(rna, nm))\n",
    "    return list_of_pairs\n",
    "\n",
    "def dot_write(rna, fold):\n",
    "    \"\"\"\n",
    "    :param rna: the rna sequence to find the dot bracket structure for\n",
    "    :param fold: the indices of rna where a the loop starts and ends\n",
    "    :return: the dot bracket structure for :param rna\n",
    "    Reference: https://bayesianneuron.com/2019/02/nussinov-predict-2nd-rna-fold-structure-algorithm/\n",
    "    \"\"\"\n",
    "    dot = [\".\" for i in range(len(rna))]\n",
    "    for s in fold:\n",
    "        dot[min(s)] = \"(\"\n",
    "        dot[max(s)] = \")\"\n",
    "    return \"\".join(dot)\n",
    "\n",
    "def get_mfe(dot, rna, nm):\n",
    "    \"\"\"\n",
    "    :param dot: the dot bracket structure for the input rna\n",
    "    :param rna: the rna sequence\n",
    "    :param nm: the corresponding nussinov DP matrix for :param rna\n",
    "    :return: the mfe of the dot bracket structure with unpaired loop bases accounted for\n",
    "    \"\"\"\n",
    "    mfe = nm[0][len(rna) - 1]\n",
    "    unpaired = re.findall(r'\\(.*?\\)', dot)\n",
    "    for elem in unpaired:\n",
    "        for char in elem:\n",
    "            if char == \".\":\n",
    "                mfe = mfe + 0.1\n",
    "    return mfe.round(1)"
   ]
  },
  {
   "cell_type": "markdown",
   "metadata": {},
   "source": [
    "## Handle the file I/O"
   ]
  },
  {
   "cell_type": "code",
   "execution_count": 11,
   "metadata": {},
   "outputs": [],
   "source": [
    "with open('5.in', 'r') as f:\n",
    "    lines = f.readlines()\n",
    "    if len(lines) == 1:\n",
    "        seq = lines[0].upper()\n",
    "    elif len(lines) == 2:\n",
    "        seq = lines[1].upper()\n",
    "    else:\n",
    "        print(\"Error: Input file must have exactly one or two lines\")"
   ]
  },
  {
   "cell_type": "markdown",
   "metadata": {
    "collapsed": false
   },
   "source": [
    "## (a)"
   ]
  },
  {
   "cell_type": "code",
   "execution_count": 12,
   "metadata": {
    "collapsed": false,
    "pycharm": {
     "name": "#%%\n"
    }
   },
   "outputs": [
    {
     "name": "stdout",
     "output_type": "stream",
     "text": [
      "GGCACUGAA\n",
      "-2.7\n",
      "(...)....\n"
     ]
    }
   ],
   "source": [
    "# set up everything we need to print the results\n",
    "matrix = nussinov_fill(seq)[0]\n",
    "traceback = nussinov_traceback(seq, matrix)\n",
    "structure = dot_write(seq, traceback)\n",
    "energy = get_mfe(structure, seq, matrix)\n",
    "\n",
    "#output results\n",
    "print(seq)\n",
    "print(energy)\n",
    "print(structure)"
   ]
  },
  {
   "cell_type": "markdown",
   "metadata": {
    "collapsed": false
   },
   "source": [
    "## (b)"
   ]
  },
  {
   "cell_type": "code",
   "execution_count": 13,
   "metadata": {
    "collapsed": false,
    "pycharm": {
     "name": "#%%\n"
    }
   },
   "outputs": [
    {
     "name": "stdout",
     "output_type": "stream",
     "text": [
      "YES\n"
     ]
    }
   ],
   "source": [
    "tie = nussinov_fill(seq)[1]\n",
    "print(tie)"
   ]
  },
  {
   "cell_type": "markdown",
   "metadata": {
    "collapsed": false
   },
   "source": [
    "## (c)"
   ]
  },
  {
   "cell_type": "code",
   "execution_count": 14,
   "metadata": {
    "collapsed": false,
    "pycharm": {
     "name": "#%%\n"
    }
   },
   "outputs": [
    {
     "name": "stdout",
     "output_type": "stream",
     "text": [
      "2\n",
      "(...)....\n",
      "..(...)..\n"
     ]
    }
   ],
   "source": [
    "all_tracebacks = traceback_all(seq, matrix)\n",
    "print(len(all_tracebacks))\n",
    "print(dot_write(seq, all_tracebacks[0]))\n",
    "print(dot_write(seq, all_tracebacks[1]))"
   ]
  },
  {
   "cell_type": "markdown",
   "metadata": {},
   "source": [
    "## Recursion comprehension\n",
    "![](V-recursion.png)"
   ]
  },
  {
   "cell_type": "markdown",
   "metadata": {},
   "source": [
    "Shown above is the recursion for the V matrix of Zuker's algorithm.  \n",
    "Tan *et al.* give an alternate notation for the recursion (shown below) which will be used for the remainder of this explanation.  \n",
    "  \n",
    "![](V-alternate.png)"
   ]
  },
  {
   "cell_type": "markdown",
   "metadata": {},
   "source": [
    "In the above alternate recursion for V, we can see four terms:\n",
    "* $eH(i, j)$ is the energy of a hairpin loop\n",
    "* $eS(i, j)$ is the energy of stacking base pair $(i, j)$ with $(i + 1, j - 1)$\n",
    "* $VBI(i, j)$ is the energy of an internal loop closed by base pair $(i, j)$\n",
    "* $VM(i ,j)$ is the energy of a multi-branched loop closed by base pair $(i, j)$\n",
    "  \n",
    "In order to understand why Zuker's algorithm is $O(n^4)$ we can must look more closely at how $VBI(i, j)$ is calculated according to Tan *et al.* (shown below)  \n",
    "Note: $VBI(i, j)$ in the recursion given by Tan *et al.* corresponds to the $min_{\\,r,r'}e_{\\,int}(i,r,r',j')+V_{\\,r,r'}$ term of the recursion given in the assignment pdf\n",
    "\n",
    "![](VBI.png)  \n",
    "  \n",
    "As we can see, we must calculate $VBI(i',j')$ for the conditions $i < i' < j < j'$ and $i' - i + j - j' > 2$ each time we need to calculate $VBI(i,j)$.  \n",
    "Therefore, we need to iterate through $(i',j')$ and $(i,j)$ for each calculation of $VBI(i,j)$, this requires $O(n^4)$ time and gives Zuker's algorithm an overall time of $O(n^4)$ as it is the most expensive step.\n",
    "\n",
    "In order to reduce this time to $O(n^3)$ Tan *et al.* devise an optimization which is requires extra $O(n)$ memory.    \n",
    "The optimization involves storing the energy for any internal loop which is calculated, then when a loop of same size appears instead of redundantly calculating this energy the algorithm can just look up this value with a **presumably** $O(1)$ look up time.  \n",
    "\n",
    "Thus, the optimzation presented by Tan *et al* reduces the time complexity of Zuker's algorithm to $O(^3)$\n",
    "\n",
    "Reference:  \n",
    "Tan, G., Liu, X. and Sun, N., 2005, May. An efficient dynamic programming algorithm and implementation for RNA secondary structure prediction. In International Conference on Computational Science (pp. 869-876). Springer, Berlin, Heidelberg."
   ]
  },
  {
   "cell_type": "markdown",
   "metadata": {},
   "source": [
    "## Covariance Model  \n",
    "## (a)  \n",
    "The parse tree for the SCFG is shown below. This is based on figure 9.5 of the textbook.  \n",
    "  \n",
    "![](parse_tree.png)  "
   ]
  },
  {
   "cell_type": "markdown",
   "metadata": {},
   "source": [
    "## (b)  \n",
    "The covariance model shown below, based on figure 10.12 of the textbook.  \n",
    "The left side of the red line shows the general model while the right side shows the model after being used to parse the consensus sequence.  \n",
    "    \n",
    "![](SCFG-model.png)  "
   ]
  },
  {
   "cell_type": "markdown",
   "metadata": {},
   "source": [
    "## (c)  \n",
    "The covariance model should accept all three of the sequences shown in the assignment 5 pdf.  \n",
    "This is because the covariance model is based off of the consensus sequence for the three sequences outlined in the pdf.  "
   ]
  },
  {
   "cell_type": "markdown",
   "metadata": {},
   "source": [
    "## (d)  \n",
    "In order to expand the covariance model to accept any sequence with the structure $(..(((.....))((...)).).)$ we would need to change the model as shown below.  \n",
    "The changes are shown in green.  \n",
    "  \n",
    "![](modified-model.png)"
   ]
  },
  {
   "cell_type": "markdown",
   "metadata": {},
   "source": []
  }
 ],
 "metadata": {
  "kernelspec": {
   "display_name": "Python 3",
   "language": "python",
   "name": "python3"
  },
  "language_info": {
   "codemirror_mode": {
    "name": "ipython",
    "version": 3
   },
   "file_extension": ".py",
   "mimetype": "text/x-python",
   "name": "python",
   "nbconvert_exporter": "python",
   "pygments_lexer": "ipython3",
   "version": "3.7.10"
  }
 },
 "nbformat": 4,
 "nbformat_minor": 0
}