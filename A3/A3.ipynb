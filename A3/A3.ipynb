{
 "cells": [
  {
   "cell_type": "markdown",
   "metadata": {},
   "source": [
    "## Derek Robinson"
   ]
  },
  {
   "cell_type": "markdown",
   "metadata": {},
   "source": [
    "## Question 1"
   ]
  },
  {
   "cell_type": "code",
   "execution_count": 9,
   "metadata": {},
   "outputs": [],
   "source": [
    "import numpy as np\n",
    "\n",
    "def print_distance_matrix(D, seq_names):\n",
    "\t\"\"\"\n",
    "\tA helper function to print the distance matrix for the UPGMA algorithm\n",
    "\tParameters\n",
    "\t----------\n",
    "\tD : list-like\n",
    "\t\tthe 2d distance matrix we are going to pretty print\n",
    "\tseq_names : list-like\n",
    "\t\tthe names of the sequences, D[0][0] corresponds to the distance between seq_names[0] and seq_names[0]\n",
    "\t\"\"\"\n",
    "\tprint(\"-\", end=\" \")\n",
    "\tfor seq in seq_names:\n",
    "\t\tprint(seq, end=\" \")\n",
    "\tprint(\"\\n\", end=\"\")\n",
    "\tfor i in range(0, len(D)):\n",
    "\t\tprint(seq_names[i], end=\" \")\n",
    "\t\tfor j in range(0,len(D[0])):\n",
    "\t\t\tprint(D[i][j], end=\"\")\n",
    "\t\t\tprint(\" \", end =\"\")\n",
    "\t\tprint(\"\\n\", end=\"\")\n",
    "\n",
    "def find_minimum_coords(D):\n",
    "\t\"\"\"\n",
    "\tFinds the coordinates of the minimum value in a 2d matrix\n",
    "    Parameters\n",
    "    ----------\n",
    "    D : np.ndarray\n",
    "        the 2d matrix we are going to find the coordinates of the minimum for\n",
    "    Returns\n",
    "    -------\n",
    "    min_coord : tuple\n",
    "        the tuple which contains the coordinates of the minimum in D\n",
    "\t\"\"\"\n",
    "\tcurrent_min = float('inf') #don't know the min yet so set it to infinity\n",
    "\tmin_coord = (0, 0)\n",
    "\tmore_than_one_min = 1 #if greater than 1 there is more than 1 minimum in D and thus more than one optimal tree\n",
    "\tfor i in range(0, len(D)):\n",
    "\t\tfor j in range(0, len(D[0])):\n",
    "\t\t\tif(D[i][j] < current_min and D[i][j] != 0):\n",
    "\t\t\t\tcurrent_min = D[i][j]\n",
    "\t\t\t\tmin_coord = (i,j)\n",
    "\treturn tuple(sorted(min_coord))\n",
    "\n",
    "def hamming_distance(string1, string2):\n",
    "\t\"\"\"\n",
    "\tA helper function which returns the pairwise distance between two strings, also known as the hamming distance.\n",
    "\tTaken directly from the second reference.\n",
    "\tReferences\n",
    "    ----------\n",
    "\thttps://en.wikipedia.org/wiki/Distance_matrices_in_phylogeny\n",
    "\thttps://en.wikipedia.org/wiki/Hamming_distance\n",
    "    Parameters\n",
    "    ----------\n",
    "    string1, string2 : str\n",
    "        the strings we are going to calculate the hamming distance for\n",
    "    Return\n",
    "    ------\n",
    "    dist_counter : int\n",
    "        the distance between string1 and string2\n",
    "\t\"\"\"\n",
    "\tdist_counter = 0\n",
    "\tfor n in range(len(string1)):\n",
    "\t\tif string1[n] != string2[n]:\n",
    "\t\t\tdist_counter += 1\n",
    "\treturn dist_counter\n",
    "\n",
    "def create_new_cluster(clusters, min_coord, D):\n",
    "    \"\"\"\n",
    "    Creates a new cluster in the param clusters.\n",
    "    Parameters\n",
    "\t----------\n",
    "\tclusters : list\n",
    "\t\ta list of the current clusters\n",
    "\tmin_coord : tuple\n",
    "\t\ta tuple that gives the coordinates in D for the minimun value\n",
    "    D : np.ndarray\n",
    "        A 2d array which holds the distance matrix for the UPGMA alg\n",
    "\tReturns\n",
    "    -------\n",
    "\tclusters : list\n",
    "\t\ta list of the clusters with the newest one added\n",
    "    \"\"\"\n",
    "    clusters[min_coord[0]] = clusters[min_coord[0]] + clusters[min_coord[1]].replace(\"S\", \"\")\n",
    "    clusters.remove(clusters[min_coord[1]])\n",
    "    return clusters\n",
    "\n",
    "def build_tree_nodes(nodes, min_coord, D, clusters):\n",
    "    \"\"\"\n",
    "    Builds a new tree node and places it into nodes\n",
    "    Parameters\n",
    "    ----------\n",
    "    nodes : list\n",
    "        a list of tuples containing each of the nodes and their height in the tree\n",
    "\tmin_coord : tuple\n",
    "\t\ta tuple that gives the coordinates in D for the minimun value\n",
    "    D : np.ndarray\n",
    "        A 2d array which holds the distance matrix for the UPGMA alg\n",
    "    clusters : list\n",
    "\t\ta list of the current clusters\n",
    "    Return\n",
    "    ------\n",
    "    nodes : list\n",
    "        the list of nodes with the newly added node\n",
    "    \"\"\"\n",
    "    height = D[min_coord[0]][min_coord[1]]/2\n",
    "    leaf_0 = clusters[min_coord[0]]\n",
    "    leaf_1 = clusters[min_coord[1]]\n",
    "    nodes.append((leaf_0, leaf_1, height))\n",
    "    return nodes\n",
    "\n",
    "def build_final_tree(nodes, clusters):\n",
    "    \"\"\"\n",
    "    Builds the final tree output from the nodes and final cluster\n",
    "    Parameters\n",
    "    ----------\n",
    "    nodes : list\n",
    "        a list of tuples containing each of the nodes and their height in the tree\n",
    "    clusters : list\n",
    "\t\ta list of the current clusters, when this function is called clusters only contains the final cluster\n",
    "    Return\n",
    "    ------\n",
    "    tree : string\n",
    "        the final phylogenetic tree\n",
    "    \"\"\"\n",
    "    tree = \"\"\n",
    "    last_height = 0\n",
    "    for i in range(0, len(nodes)):\n",
    "        left_node = nodes[i][0]\n",
    "        right_node = nodes[i][1]\n",
    "        height = nodes[i][2]\n",
    "        if(i >= 1):\n",
    "            tree = \"(\" + left_node + \":\" + str(height - last_height)[0:3] + tree + \")\" + \"(\" + right_node + \":\" + str(height)[0:3] + \")\"\n",
    "        else:\n",
    "            tree = \"(\" + left_node + \":\" + str(height)[0:3] + tree + \")\" + \"(\" + right_node + \":\" + str(height)[0:3] + \")\"\n",
    "        last_height = height\n",
    "    tree = clusters[0] + tree\n",
    "    return tree\n",
    "\n",
    "def recalculate_distances(D, clusters, min_coord):\n",
    "    \"\"\"\n",
    "    Recalculates the distance matrix D after a new cluster is created\n",
    "    Parameters\n",
    "    ----------\n",
    "    D : np.ndarray\n",
    "        A 2d array which holds the distance matrix for the UPGMA alg\n",
    "    clusters : list\n",
    "        a list of the current clusters\n",
    "    min_coord : tuple\n",
    "        a tuple that gives the coordinates in D for the minimun value\n",
    "    Return\n",
    "    ------\n",
    "    D : np.ndarray\n",
    "        The distance matrix with recalculated values\n",
    "    \"\"\"\n",
    "    copy_D = D.copy()\n",
    "    D = np.ndarray(shape=(len(clusters),len(clusters)), dtype=float)\n",
    "    # fill in the first row and column with the new scores\n",
    "    for i in range(0, len(D)):\n",
    "        if(i == 0):\n",
    "            D[0][i] = 0\n",
    "            D[i][0] = 0\n",
    "        elif(i >= min_coord[1]):\n",
    "            D[0][i] = (copy_D[min_coord[0]][i+1] + copy_D[min_coord[1]][i+1])/2\n",
    "            D[i][0] = (copy_D[min_coord[0]][i+1] + copy_D[min_coord[1]][i+1])/2\n",
    "        else:\n",
    "            D[0][i] = (copy_D[min_coord[0]][i] + copy_D[min_coord[1]][i])/2\n",
    "            D[i][0] = (copy_D[min_coord[0]][i] + copy_D[min_coord[1]][i])/2\n",
    "    # fill in the remainder of the matrix with score from copy_D\n",
    "    for i in range(1, len(D)):\n",
    "        for j in range(1, len(D)):\n",
    "            if(i == j):\n",
    "                D[i][j] = 0\n",
    "            elif(i >= min_coord[1] and j >= min_coord[1]):\n",
    "                D[i][j] = copy_D[i+1][j+1]\t\n",
    "            elif(j >= min_coord[1]):\n",
    "                D[i][j] = copy_D[i][j+1]\n",
    "            elif(i >= min_coord[1]):\n",
    "                D[i][j] = copy_D[i+1][j]\n",
    "            else:\n",
    "                D[i][j] = copy_D[i][j]\n",
    "    return D\n",
    "\n",
    "def build_distance_matrix(seq_names, seqs):\n",
    "\t\"\"\"\n",
    "\tComputes and returns the pairwise distance matrix for all sequences.\n",
    "\tParameters\n",
    "\t----------\n",
    "\tseq_names : list\n",
    "\t\ta list of the sequence names we are to build the phylogenetic tree for\n",
    "\tseqs : list\n",
    "\t\ta list of the sequences we are to build the phylogenetic tree for\n",
    "\tReturns\n",
    "    -------\n",
    "\tD : numpy.ndarray \n",
    "\t\tthe pairwise distance matrix\n",
    "\t\"\"\"\n",
    "\tn = int(len(seqs))# our pairwise distance matrix will have shape = (n,n)\n",
    "\tD = np.ndarray(shape=(n,n), dtype=float) # the pairwise distance matrix\n",
    "\t# compute the pairwise distance between each of the sequences and populate D with them\n",
    "\tfor i in range(0,n):\n",
    "\t\tfor j in range(0,n):\n",
    "\t\t\tD[i][j] = hamming_distance(seqs[i],seqs[j])\n",
    "\treturn D\n",
    "\n",
    "def UPGMA(D, seq_names):\n",
    "\tclusters = [cluster for cluster in seq_names] #initialize clusters with the sequence names\n",
    "\tnodes = []\n",
    "\twhile(len(clusters) != 1):\n",
    "\t\tmin_coord = find_minimum_coords(D)\n",
    "\t\tnodes = build_tree_nodes(nodes, min_coord, D, clusters)\n",
    "\t\tclusters = create_new_cluster(clusters, min_coord, D)\n",
    "\t\t#calculate the distance from the new cluster to every other cluster\n",
    "\t\tD = recalculate_distances(D, clusters, min_coord)\n",
    "\ttree = build_final_tree(nodes, clusters)\n",
    "\treturn tree\n",
    "\n",
    "def is_there_multiple_trees(D):\n",
    "\t\"\"\"\n",
    "\tPrints YES or NO depending on if there are multiple optimal trees\n",
    "\tIn other words, prints YES or NO depending on if there are multiple minimum distance values in D.\n",
    "\t\"\"\"\n",
    "\tcurrent_min = float('inf') #don't know the min yet so set it to infinity\n",
    "\tmore_than_one_min = 1 #if greater than 1 there is more than 1 minimum in D and thus more than one optimal tree\n",
    "\tfor i in range(0, len(D)):\n",
    "\t\tfor j in range(0, i+1):\n",
    "\t\t\tif(D[i][j] < current_min and D[i][j] != 0):\n",
    "\t\t\t\tcurrent_min = D[i][j]\n",
    "\t\t\telif D[i][j] == current_min:\n",
    "\t\t\t\tmore_than_one_min += 1\n",
    "\tif(more_than_one_min > 1):\n",
    "\t\treturn \"YES\"\n",
    "\telse:\n",
    "\t\treturn \"NO\""
   ]
  },
  {
   "cell_type": "markdown",
   "metadata": {},
   "source": [
    "Next we handle file I/O"
   ]
  },
  {
   "cell_type": "code",
   "execution_count": 10,
   "metadata": {},
   "outputs": [],
   "source": [
    "\n",
    "with open('3.in', 'r') as f:\n",
    "\t\tlines = f.readlines()\n",
    "\t\tseq_names = [] #the names of the sequences\n",
    "\t\tseqs = [] #the sequences themselves\n",
    "\t\tfor i in range(0, len(lines)):\n",
    "\t\t\tlines[i] = lines[i].replace('\\n','').replace('>','')\n",
    "\t\t\tif i % 2 != 0: #if i is odd, lines[i] is a sequence\n",
    "\t\t\t\tseqs.append(lines[i])\n",
    "\t\t\telse: #if i is even, lines[i] is a sequence name\n",
    "\t\t\t\tseq_names.append(lines[i])"
   ]
  },
  {
   "cell_type": "markdown",
   "metadata": {},
   "source": [
    "We are ready to answer now\n",
    "## a)"
   ]
  },
  {
   "cell_type": "code",
   "execution_count": 11,
   "metadata": {},
   "outputs": [
    {
     "name": "stdout",
     "output_type": "stream",
     "text": [
      "- S1 S2 S3 S4 S5 \n",
      "S1 0.0 6.0 4.0 12.0 11.0 \n",
      "S2 6.0 0.0 5.0 13.0 11.0 \n",
      "S3 4.0 5.0 0.0 12.0 10.0 \n",
      "S4 12.0 13.0 12.0 0.0 11.0 \n",
      "S5 11.0 11.0 10.0 11.0 0.0 \n"
     ]
    }
   ],
   "source": [
    "D = build_distance_matrix(seq_names, seqs)\n",
    "print_distance_matrix(D, seq_names)"
   ]
  },
  {
   "cell_type": "markdown",
   "metadata": {},
   "source": [
    "## b)"
   ]
  },
  {
   "cell_type": "code",
   "execution_count": 12,
   "metadata": {},
   "outputs": [
    {
     "name": "stdout",
     "output_type": "stream",
     "text": [
      "S13254(S1325:0.5(S132:2.6(S13:0.7(S1:2.0)(S3:2.0))(S2:2.7))(S5:5.3))(S4:5.8)\n"
     ]
    }
   ],
   "source": [
    "print(UPGMA(D, seq_names))"
   ]
  },
  {
   "cell_type": "markdown",
   "metadata": {},
   "source": [
    "## c)"
   ]
  },
  {
   "cell_type": "code",
   "execution_count": 13,
   "metadata": {},
   "outputs": [
    {
     "name": "stdout",
     "output_type": "stream",
     "text": [
      "NO\n"
     ]
    }
   ],
   "source": [
    "print(is_there_multiple_trees(D))"
   ]
  },
  {
   "cell_type": "markdown",
   "metadata": {},
   "source": [
    "## Question 2\n",
    "## a)\n",
    "This question involves performing fitches algorithm on two different trees. We will begin with the left tree first.  \n",
    "![](2a-left.png)  \n",
    "The total cost (or length) of the left tree is 2"
   ]
  },
  {
   "cell_type": "markdown",
   "metadata": {},
   "source": [
    "Next we will do the right tree.  \n",
    "![](2a-right.png)  \n",
    "Which also has total cost (or length) of 2"
   ]
  },
  {
   "cell_type": "markdown",
   "metadata": {},
   "source": [
    "## b)"
   ]
  },
  {
   "cell_type": "markdown",
   "metadata": {},
   "source": [
    "The final cost (or length) of this tree is 2  \n",
    "![](2b.png)"
   ]
  },
  {
   "cell_type": "markdown",
   "metadata": {},
   "source": [
    "## Question 3\n",
    "## a) Left tree  \n",
    "![](3a-1.png)\n",
    "![](3a-2-1.png)\n",
    "![](3a-2-2.png)"
   ]
  },
  {
   "cell_type": "markdown",
   "metadata": {},
   "source": [
    "## a) Right tree  \n",
    "![](3a-3-1.png)\n",
    "![](3a-3-2.png)"
   ]
  },
  {
   "cell_type": "markdown",
   "metadata": {},
   "source": [
    "## b)  \n",
    "\n",
    "A stochastic local search approach could work to find the maximum likelihood tree by rearranging some internal nodes in the tree in order to produce a tree which is more optimal, this is the local search portion of the algorithm. Once you have found the optimal arrangement for those nodes you move on to the next set of nodes and find an optimal arrangement of those. This cycle continues until all nodes have been optimally rearranged.\n"
   ]
  }
 ],
 "metadata": {
  "interpreter": {
   "hash": "e36037f63a187e1cbdbbdbba65cb8e02f1206170ccfbe96ceb37b0f563e0b6ff"
  },
  "kernelspec": {
   "display_name": "Python 3.7.10 64-bit ('base': conda)",
   "name": "python3"
  },
  "language_info": {
   "codemirror_mode": {
    "name": "ipython",
    "version": 3
   },
   "file_extension": ".py",
   "mimetype": "text/x-python",
   "name": "python",
   "nbconvert_exporter": "python",
   "pygments_lexer": "ipython3",
   "version": "3.7.10"
  }
 },
 "nbformat": 4,
 "nbformat_minor": 4
}
