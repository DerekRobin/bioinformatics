{
 "cells": [
  {
   "cell_type": "markdown",
   "id": "865c06d3",
   "metadata": {},
   "source": [
    "Derek Robinson"
   ]
  },
  {
   "cell_type": "markdown",
   "id": "351cabbb",
   "metadata": {},
   "source": [
    "## 1. Consider the following (incomplete) eukaryotic mRNA sequence:\n",
    "5'-GACAUGUGUGUGAUCCGUCUGAAU...CCUUUCUUUUCGCAGGGCGGAUAAUCAA-3'  \n",
    "\n",
    "a) What is the complimentary DNA sequence for this mRNA? [5 mark]  "
   ]
  },
  {
   "cell_type": "code",
   "execution_count": 2,
   "id": "4df87fce",
   "metadata": {},
   "outputs": [
    {
     "data": {
      "text/plain": [
       "'CTGTACACACACTAGGCAGACTTA...GGAAAGAAAAGCGTCCCGCCTATTAGTT'"
      ]
     },
     "execution_count": 2,
     "metadata": {},
     "output_type": "execute_result"
    }
   ],
   "source": [
    "mRNA_str = \"GACAUGUGUGUGAUCCGUCUGAAU...CCUUUCUUUUCGCAGGGCGGAUAAUCAA\"\n",
    "\n",
    "\"\"\"Converts a sequence of mRNA to its complementary DNA sequence\"\"\"\n",
    "def mRNA_to_DNA(mRNA: str):\n",
    "    base_pairs = {\n",
    "      \"G\": \"C\",\n",
    "      \"C\": \"G\",\n",
    "      \"A\": \"T\",\n",
    "      \"U\": \"A\"\n",
    "    }\n",
    "    DNA = \"\"\n",
    "    for base in mRNA:\n",
    "        if base == '.':\n",
    "            DNA = DNA + \".\"\n",
    "        else:\n",
    "            DNA = DNA + base_pairs[base]\n",
    "    return DNA\n",
    "\n",
    "mRNA_to_DNA(mRNA_str)"
   ]
  },
  {
   "cell_type": "markdown",
   "id": "53ef8ace",
   "metadata": {},
   "source": [
    "Thus, the complimentary DNA sequence for the mRNA is: **5'-CTGTACACACACTAGGCAGACTTA...GGAAAGAAAAGCGTCCCGCCTATTAGTT-3'**\n",
    "\n",
    "b) What is the amino acid sequence of the corresponding protein assuming that the\n",
    "5' end of the sequence shown above corresponds to the 5' end of the mRNA?  \n",
    "(Use the standard three letter abbreviations for amino acids.) [5 marks]"
   ]
  },
  {
   "cell_type": "code",
   "execution_count": 5,
   "id": "69f78005",
   "metadata": {},
   "outputs": [
    {
     "data": {
      "text/plain": [
       "'met cys val ile arg leu asn ... pro phe phe ser gln gly gly '"
      ]
     },
     "execution_count": 5,
     "metadata": {},
     "output_type": "execute_result"
    }
   ],
   "source": [
    "def mRNA_to_protein(mRNA: str):\n",
    "    genetic_code = {\n",
    "        \"UUU\":\"phe\", \"UUC\":\"phe\",\n",
    "        \"UUA\":\"leu\", \"UUG\":\"leu\", \"CUU\":\"leu\", \"CUC\":\"leu\", \"CUA\":\"leu\", \"CUG\":\"leu\",\n",
    "        \"AUU\":\"ile\", \"AUC\":\"ile\", \"AUA\":\"ile\",\n",
    "        \"AUG\":\"met\",\n",
    "        \"GUU\":\"val\", \"GUC\":\"val\", \"GUA\":\"val\", \"GUG\":\"val\",\n",
    "        \"UCU\":\"ser\", \"UCC\":\"ser\", \"UCA\":\"ser\", \"UCG\":\"ser\",\n",
    "        \"CCU\":\"pro\", \"CCC\":\"pro\", \"CCA\":\"pro\", \"CCG\":\"pro\",\n",
    "        \"ACU\":\"thr\", \"ACC\":\"thr\", \"ACA\": \"thr\", \"ACG\":\"thr\",\n",
    "        \"GCU\":\"ala\", \"GCC\":\"ala\", \"GCA\":\"ala\", \"GCG\":\"ala\",\n",
    "        \"UAU\":\"tyr\", \"UAC\":\"tyr\",\n",
    "        \"UAA\":\"STOP\", \"UAG\":\"STOP\",\n",
    "        \"CAU\":\"his\", \"CAC\":\"his\",\n",
    "        \"CAA\":\"gln\", \"CAG\":\"gln\",\n",
    "        \"AAU\":\"asn\", \"AAC\":\"asn\",\n",
    "        \"AAA\":\"lys\", \"AAG\":\"lys\",\n",
    "        \"GAU\":\"asp\",\"GAC\":\"asp\",\n",
    "        \"GAA\":\"glu\", \"GAG\":\"glu\",\n",
    "        \"UGU\":\"cys\", \"UGC\":\"cys\",\n",
    "        \"UGA\":\"STOP\",\n",
    "        \"UGG\":\"trp\",\n",
    "        \"CGU\":\"arg\", \"CGC\":\"arg\", \"CGA\":\"arg\", \"CGG\":\"arg\",\n",
    "        \"AGU\":\"ser\", \"AGC\":\"ser\",\n",
    "        \"AGA\":\"arg\", \"AGG\":\"arg\",\n",
    "        \"GGU\":\"gly\", \"GGC\":\"gly\", \"GGA\":\"gly\", \"GGG\":\"gly\"\n",
    "    }\n",
    "    protein = \"\"\n",
    "    # Break mRNA into codons\n",
    "    codons = [mRNA[i:i+3] for i in range(0, len(mRNA), 3)]\n",
    "    # Match Codon with amino acid from dictionary\n",
    "    found_start = False\n",
    "    for codon in codons:\n",
    "        if codon == \"...\":\n",
    "            protein = protein + \"... \" \n",
    "        elif genetic_code[codon] == 'STOP':\n",
    "            break\n",
    "        elif codon == \"AUG\":\n",
    "            found_start = True\n",
    "            protein = protein + genetic_code[codon] + \" \"\n",
    "        elif found_start == True:\n",
    "            protein = protein + genetic_code[codon] + \" \"\n",
    "    return protein\n",
    "\n",
    "mRNA_to_protein(mRNA_str)"
   ]
  },
  {
   "cell_type": "markdown",
   "id": "2969223e",
   "metadata": {},
   "source": [
    "Thus, the protein amino acid sequence is: **5'-asp met cys val ile arg leu asn ... pro phe phe ser gln gly gly-3'**  \n",
    "  \n",
    "c) Assuming this mRNA is mature, draw a diagram to show the structure of the genomic DNA sequence from which this mRNA may have been transcribed (indicate\n",
    "all major elements). [5 marks]  \n",
    "d) What would have been different with regards to your answer to part (c) if the\n",
    "mRNA was prokaryotic? [5 marks]"
   ]
  },
  {
   "cell_type": "code",
   "execution_count": null,
   "id": "b87dff28",
   "metadata": {},
   "outputs": [],
   "source": []
  }
 ],
 "metadata": {
  "kernelspec": {
   "display_name": "Python 3",
   "language": "python",
   "name": "python3"
  },
  "language_info": {
   "codemirror_mode": {
    "name": "ipython",
    "version": 3
   },
   "file_extension": ".py",
   "mimetype": "text/x-python",
   "name": "python",
   "nbconvert_exporter": "python",
   "pygments_lexer": "ipython3",
   "version": "3.7.10"
  }
 },
 "nbformat": 4,
 "nbformat_minor": 5
}
